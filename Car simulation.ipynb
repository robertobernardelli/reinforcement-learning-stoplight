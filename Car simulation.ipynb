{
 "cells": [
  {
   "cell_type": "code",
   "execution_count": 1,
   "id": "ee049d70",
   "metadata": {},
   "outputs": [
    {
     "name": "stdout",
     "output_type": "stream",
     "text": [
      "pygame 2.1.2 (SDL 2.0.18, Python 3.8.12)\n",
      "Hello from the pygame community. https://www.pygame.org/contribute.html\n"
     ]
    }
   ],
   "source": [
    "import pygame\n",
    "import random\n",
    "import math\n",
    "import numpy as np"
   ]
  },
  {
   "cell_type": "code",
   "execution_count": 23,
   "id": "32409a30",
   "metadata": {},
   "outputs": [],
   "source": [
    "SAFETY_DISTANCE = 20"
   ]
  },
  {
   "cell_type": "code",
   "execution_count": 27,
   "id": "3ba13baf",
   "metadata": {},
   "outputs": [],
   "source": [
    "class Car:\n",
    "    def __init__(self, position, direction, object_in_front = None):\n",
    "        self.pos = position\n",
    "        self.direction = direction\n",
    "        self.object_in_front = object_in_front\n",
    "        self.speed = 2/10\n",
    "        self.max_speed = 4/5\n",
    "        self.acceleration = 0.02\n",
    "        self.deceleration = 0\n",
    "        self.lookahead = self.speed * 20\n",
    "        self.color = (255, 255, 255)\n",
    "        self.distance = self.determine_distance()\n",
    "        \n",
    "    def euclidean_distance(self, a, b):\n",
    "        return np.sqrt(np.sum((a - b)**2))\n",
    "        \n",
    "    def determine_distance(self):\n",
    "        return self.euclidean_distance(self.pos,self.object_in_front.pos)\n",
    "        \n",
    "    def step(self):\n",
    "        new_distance = self.determine_distance()\n",
    "        \n",
    "        if new_distance < self.lookahead + SAFETY_DISTANCE:\n",
    "            self.speed = max(self.speed/2, 0)\n",
    "        else:\n",
    "            self.speed = min(self.speed+self.acceleration, self.max_speed)\n",
    "        \n",
    "        self.distance = new_distance\n",
    "        self.lookahead = self.speed * 20\n",
    "        self.pos = self.pos + (self.speed*self.direction)"
   ]
  },
  {
   "cell_type": "code",
   "execution_count": 28,
   "id": "4ba46a6e",
   "metadata": {},
   "outputs": [],
   "source": [
    "class Stoplight:\n",
    "    def __init__(self, position):\n",
    "        self.pos = position"
   ]
  },
  {
   "cell_type": "code",
   "execution_count": 30,
   "id": "6389c65f",
   "metadata": {},
   "outputs": [],
   "source": [
    "pygame.init()\n",
    "screen = pygame.display.set_mode((800, 600))\n",
    "pygame.display.set_caption(\"Traffic Simulation\")\n",
    "img = pygame.image.load(\"intersection.png\").convert()\n",
    "\n",
    "#one stoplight\n",
    "stoplight1 = Stoplight(np.array([400, 300]))\n",
    "#let's create only one car\n",
    "queue = []\n",
    "car1 = Car(np.array([400, 580]), np.array([0, -1]), object_in_front = stoplight1)\n",
    "queue.append(car1)\n",
    "car2 = Car(np.array([400, 600]), np.array([0, -1]), object_in_front = car1)\n",
    "queue.append(car2)\n",
    "\n",
    "running = True\n",
    "while running:\n",
    "    for event in pygame.event.get():\n",
    "        if event.type == pygame.QUIT:\n",
    "            running = False\n",
    "            \n",
    "            \n",
    "    screen.fill((100, 100, 100))\n",
    "    i = 0\n",
    "    for car in queue:\n",
    "        pygame.draw.circle(screen, car.color, car.pos, 5)\n",
    "        car.step()\n",
    "        if car.pos[1] <= 0:\n",
    "            car.pos[1] = 600\n",
    "        if car.speed > 0.00001:\n",
    "            i += 1\n",
    "        \n",
    "    pygame.display.update()\n",
    "    if i == 0:\n",
    "        break"
   ]
  },
  {
   "cell_type": "code",
   "execution_count": 31,
   "id": "2cf6e272",
   "metadata": {},
   "outputs": [],
   "source": [
    "pygame.quit()"
   ]
  }
 ],
 "metadata": {
  "kernelspec": {
   "display_name": "Python 3 (ipykernel)",
   "language": "python",
   "name": "python3"
  },
  "language_info": {
   "codemirror_mode": {
    "name": "ipython",
    "version": 3
   },
   "file_extension": ".py",
   "mimetype": "text/x-python",
   "name": "python",
   "nbconvert_exporter": "python",
   "pygments_lexer": "ipython3",
   "version": "3.8.12"
  }
 },
 "nbformat": 4,
 "nbformat_minor": 5
}
