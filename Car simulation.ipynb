{
 "cells": [
  {
   "cell_type": "code",
   "execution_count": 15,
   "id": "ee049d70",
   "metadata": {},
   "outputs": [],
   "source": [
    "import pygame\n",
    "import random\n",
    "import math\n",
    "import numpy as np\n",
    "from scipy.interpolate import CubicSpline\n",
    "import time"
   ]
  },
  {
   "cell_type": "code",
   "execution_count": 16,
   "id": "32409a30",
   "metadata": {},
   "outputs": [],
   "source": [
    "SAFETY_DISTANCE = 20"
   ]
  },
  {
   "cell_type": "code",
   "execution_count": 65,
   "id": "3ba13baf",
   "metadata": {},
   "outputs": [],
   "source": [
    "class Car:\n",
    "    def __init__(self, trajectory, object_in_front = None):\n",
    "        self.pos = trajectory.start\n",
    "        self.direction = trajectory.get_direction()\n",
    "        self.object_in_front = object_in_front\n",
    "        self.speed = 2\n",
    "        self.max_speed = 4\n",
    "        self.acceleration = 0.02\n",
    "        self.deceleration = 0\n",
    "        self.lookahead = self.speed * 20\n",
    "        self.color = (255, 255, 255)\n",
    "        self.distance = self.determine_distance()\n",
    "        \n",
    "    def euclidean_distance(self, a, b):\n",
    "        return np.sqrt(np.sum((a - b)**2))\n",
    "        \n",
    "    def determine_distance(self):\n",
    "        return self.euclidean_distance(self.pos,self.object_in_front.pos)\n",
    "        \n",
    "    def step(self):\n",
    "        new_distance = self.determine_distance()\n",
    "        \n",
    "        #when there is a car in front\n",
    "        if isinstance(self.object_in_front, Car):\n",
    "            if new_distance < self.lookahead + SAFETY_DISTANCE:\n",
    "                self.speed = max(self.speed/2, 0)\n",
    "            else:\n",
    "                self.speed = min(self.speed+self.acceleration, self.max_speed)\n",
    "        \n",
    "        #when there is a stoplight in front\n",
    "        elif isinstance(self.object_in_front, Stoplight):\n",
    "            if self.object_in_front.red == True:\n",
    "                if new_distance < 0.01:\n",
    "                    self.speed = 0\n",
    "                elif new_distance < self.lookahead:\n",
    "                    self.speed = max(self.speed/2, 0)\n",
    "            else:\n",
    "                self.speed = min(self.speed+self.acceleration, self.max_speed)\n",
    "            \n",
    "        self.distance = new_distance\n",
    "        self.lookahead = self.speed * 20\n",
    "        self.pos = self.pos + (self.speed*self.direction)"
   ]
  },
  {
   "cell_type": "code",
   "execution_count": 66,
   "id": "c28a71b3",
   "metadata": {},
   "outputs": [],
   "source": [
    "class Stoplight:\n",
    "    def __init__(self, position, red = True):\n",
    "        self.pos = position\n",
    "        self.red = red\n",
    "        self.color = (255, 0, 0)\n",
    "        \n",
    "    def step(self):\n",
    "        self.red = not self.red\n",
    "        self.change_color()\n",
    "        \n",
    "    def change_color(self):\n",
    "        if self.red == True:\n",
    "            self.color = (255, 0, 0)\n",
    "        else:\n",
    "            self.color = (0, 255, 0)"
   ]
  },
  {
   "cell_type": "code",
   "execution_count": 67,
   "id": "5b758238",
   "metadata": {},
   "outputs": [],
   "source": [
    "class Trajectory:\n",
    "    def __init__(self, p1, p2):\n",
    "        self.start = p1\n",
    "        self.end = p2\n",
    "        self.color = (0, 255, 255)\n",
    "        \n",
    "    def get_direction(self):\n",
    "        direction_not_norm = self.end - self.start\n",
    "        return direction_not_norm/np.sqrt(np.sum((direction_not_norm)**2))"
   ]
  },
  {
   "cell_type": "code",
   "execution_count": 68,
   "id": "d9c161a9",
   "metadata": {},
   "outputs": [
    {
     "data": {
      "text/plain": [
       "array([-0.70710678, -0.70710678])"
      ]
     },
     "execution_count": 68,
     "metadata": {},
     "output_type": "execute_result"
    }
   ],
   "source": [
    "trajectory1 = Trajectory(np.array([400, 400]), np.array([200, 200]))\n",
    "trajectory1.get_direction()"
   ]
  },
  {
   "cell_type": "code",
   "execution_count": 74,
   "id": "6389c65f",
   "metadata": {},
   "outputs": [
    {
     "ename": "KeyboardInterrupt",
     "evalue": "",
     "output_type": "error",
     "traceback": [
      "\u001b[0;31m---------------------------------------------------------------------------\u001b[0m",
      "\u001b[0;31mKeyboardInterrupt\u001b[0m                         Traceback (most recent call last)",
      "\u001b[0;32m/var/folders/vm/jwrfx2px5_1fqz5mkql4m40m0000gn/T/ipykernel_2318/492334689.py\u001b[0m in \u001b[0;36m<module>\u001b[0;34m\u001b[0m\n\u001b[1;32m     42\u001b[0m             \u001b[0mcar\u001b[0m\u001b[0;34m.\u001b[0m\u001b[0mpos\u001b[0m\u001b[0;34m[\u001b[0m\u001b[0;36m1\u001b[0m\u001b[0;34m]\u001b[0m \u001b[0;34m=\u001b[0m \u001b[0;36m600\u001b[0m\u001b[0;34m\u001b[0m\u001b[0;34m\u001b[0m\u001b[0m\n\u001b[1;32m     43\u001b[0m \u001b[0;34m\u001b[0m\u001b[0m\n\u001b[0;32m---> 44\u001b[0;31m     \u001b[0mpygame\u001b[0m\u001b[0;34m.\u001b[0m\u001b[0mdisplay\u001b[0m\u001b[0;34m.\u001b[0m\u001b[0mupdate\u001b[0m\u001b[0;34m(\u001b[0m\u001b[0;34m)\u001b[0m\u001b[0;34m\u001b[0m\u001b[0;34m\u001b[0m\u001b[0m\n\u001b[0m\u001b[1;32m     45\u001b[0m     \u001b[0miteration\u001b[0m \u001b[0;34m+=\u001b[0m \u001b[0;36m1\u001b[0m\u001b[0;34m\u001b[0m\u001b[0;34m\u001b[0m\u001b[0m\n",
      "\u001b[0;31mKeyboardInterrupt\u001b[0m: "
     ]
    }
   ],
   "source": [
    "time.sleep(5)\n",
    "pygame.init()\n",
    "screen = pygame.display.set_mode((800, 600))\n",
    "pygame.display.set_caption(\"Traffic Simulation\")\n",
    "img = pygame.image.load(\"intersection.png\").convert()\n",
    "\n",
    "\n",
    "#one stoplight\n",
    "stoplight1 = Stoplight(np.array([400, 300]))\n",
    "\n",
    "#one trajectory\n",
    "trajectory1 = Trajectory(np.array([400, 600]), np.array([400, 300]))\n",
    "\n",
    "#let's create only one car\n",
    "car_queue = []\n",
    "car1 = Car(trajectory1, object_in_front = stoplight1)\n",
    "car_queue.append(car1)\n",
    "car2 = Car(trajectory1, object_in_front = car1)\n",
    "car_queue.append(car2)\n",
    "\n",
    "running = True\n",
    "iteration = 0\n",
    "while running:\n",
    "    for event in pygame.event.get():\n",
    "        if event.type == pygame.QUIT:\n",
    "            running = False\n",
    "            \n",
    "            \n",
    "    screen.fill((100, 100, 100))\n",
    "    pygame.draw.line(screen, trajectory1.color, trajectory1.start, trajectory1.end)\n",
    "    \n",
    "    #stoplight\n",
    "    pygame.draw.line(screen, stoplight1.color, stoplight1.pos-np.array([4, 0]), stoplight1.pos+np.array([4, 0]), width = 4)\n",
    "    if iteration%500 == 0:\n",
    "        stoplight1.step()\n",
    "    \n",
    "    #car\n",
    "    for car in car_queue:\n",
    "        pygame.draw.circle(screen, car.color, car.pos, 5)\n",
    "        car.step()\n",
    "        if car.pos[1] <= 0:\n",
    "            car.pos[1] = 600\n",
    "        \n",
    "    pygame.display.update() \n",
    "    iteration += 1"
   ]
  },
  {
   "cell_type": "code",
   "execution_count": 73,
   "id": "2cf6e272",
   "metadata": {},
   "outputs": [],
   "source": [
    "pygame.quit()"
   ]
  }
 ],
 "metadata": {
  "kernelspec": {
   "display_name": "Python 3 (ipykernel)",
   "language": "python",
   "name": "python3"
  },
  "language_info": {
   "codemirror_mode": {
    "name": "ipython",
    "version": 3
   },
   "file_extension": ".py",
   "mimetype": "text/x-python",
   "name": "python",
   "nbconvert_exporter": "python",
   "pygments_lexer": "ipython3",
   "version": "3.8.12"
  }
 },
 "nbformat": 4,
 "nbformat_minor": 5
}
